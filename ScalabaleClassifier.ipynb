{
  "nbformat": 4,
  "nbformat_minor": 0,
  "metadata": {
    "colab": {
      "name": "ScalabaleClassifier.ipynb",
      "provenance": [],
      "collapsed_sections": []
    },
    "kernelspec": {
      "name": "python3",
      "display_name": "Python 3"
    }
  },
  "cells": [
    {
      "cell_type": "code",
      "metadata": {
        "id": "x9gDnTaLBQfF",
        "colab_type": "code",
        "colab": {}
      },
      "source": [
        "import math\n",
        "import numpy as np\n",
        "import matplotlib.pyplot as plt\n",
        "import tensorflow as tf\n",
        "from tensorflow.python.framework import ops\n",
        "import pandas as pd \n",
        "from sklearn.utils import shuffle\n",
        "\n",
        "%matplotlib inline"
      ],
      "execution_count": 0,
      "outputs": []
    },
    {
      "cell_type": "code",
      "metadata": {
        "id": "Ob4bYi0XDgP-",
        "colab_type": "code",
        "colab": {}
      },
      "source": [
        "# Number of layers in the network\n",
        "NUM_LAYERS = 2\n",
        "# Nimber of features of the input data\n",
        "FEATURES_NUM_X = 7\n",
        "# Number of classes to classify\n",
        "CLASSES_NUMBER = 2\n",
        "# Mini batch size\n",
        "MINI_BATCH_SIZE = 32\n",
        "\n",
        "# layers is a vector with the length corrisponding to the number of layers we want\n",
        "# in the network and the scalar at each position represents the number of neurons\n",
        "layers = [8, CLASSES_NUMBER]"
      ],
      "execution_count": 0,
      "outputs": []
    },
    {
      "cell_type": "code",
      "metadata": {
        "id": "nGIYmb4optBK",
        "colab_type": "code",
        "colab": {}
      },
      "source": [
        "def map_data(data):\n",
        "    \"\"\" \n",
        "    Map the string values in the dataset\n",
        "    \n",
        "    Arguments:\n",
        "    data: panda dataset\n",
        "\n",
        "    Returns:\n",
        "    data: panda dataset\n",
        "    \"\"\"\n",
        "\n",
        "    # Map every string in the dataset, we can only have numbers\n",
        "    sex_class_mapping = {label: idx for idx, label in enumerate(np.unique(data[\"Sex\"]))}\n",
        "    # The final astype ensures the object is treated like a string\n",
        "    embarked_class_mapping = {label: idx for idx, label in enumerate(np.unique(data[\"Embarked\"].astype(str)))}\n",
        "    data[\"Sex\"] = data[\"Sex\"].map(sex_class_mapping)\n",
        "    data[\"Embarked\"] = data[\"Embarked\"].map(embarked_class_mapping)\n",
        "    data['Fare'] = data['Fare'].astype(int)\n",
        "\n",
        "    return data"
      ],
      "execution_count": 0,
      "outputs": []
    },
    {
      "cell_type": "code",
      "metadata": {
        "id": "6Ztx1tV6aroN",
        "colab_type": "code",
        "colab": {}
      },
      "source": [
        "def train_test_split(X, y, test_size=0.2, random_state=0):\n",
        "  \"\"\" \n",
        "  Split arrays or matrices into random train and test subsets\n",
        "    \n",
        "  Arguments:\n",
        "  X: panda feature dataset\n",
        "  y: panda feature dataset\n",
        "  test_size: size of the returning test set\n",
        "  random_state: random seed to shuffle data \n",
        "\n",
        "  Returns:\n",
        "  X_train: train subset of the original dataset\n",
        "  y_train: train label subset of the original dataset\n",
        "  X_test: test subset of the original dataset\n",
        "  y_train: test label subset of the original dataset\n",
        "  \"\"\"\n",
        "  X, y = shuffle(X, y, random_state= random_state)\n",
        "  part_to_take = int(len(X) * 0.2)\n",
        "\n",
        "  X_train = X.head(len(X) - part_to_take)\n",
        "  Y_train = y.head(len(X) - part_to_take)\n",
        "  X_test = X.tail(part_to_take)\n",
        "  Y_test = y.tail(part_to_take)\n",
        "\n",
        "  return X_train, X_test, Y_train, Y_test"
      ],
      "execution_count": 0,
      "outputs": []
    },
    {
      "cell_type": "code",
      "metadata": {
        "id": "F5mstNcUlmXn",
        "colab_type": "code",
        "colab": {}
      },
      "source": [
        "def manage_nan_values(data):\n",
        "  \"\"\" \n",
        "  Replace the NaN values of the dataset with the mean of the column\n",
        "    \n",
        "  Arguments:\n",
        "  data: panda dataset\n",
        "\n",
        "  Returns:\n",
        "  data: panda dataset\n",
        "  \"\"\"\n",
        "    return data.where(pd.notna(data), data.mean(), axis='columns')"
      ],
      "execution_count": 0,
      "outputs": []
    },
    {
      "cell_type": "code",
      "metadata": {
        "id": "XcS_uXCSPYzR",
        "colab_type": "code",
        "colab": {}
      },
      "source": [
        "def split_batches(X, y, batch_size, random_state = 0):\n",
        "  \"\"\" \n",
        "  Split dataset in mini batches\n",
        "    \n",
        "  Arguments:\n",
        "  X: panda feature dataset\n",
        "  y: panda feature dataset\n",
        "  batch_size: size of each batch\n",
        "  random_state: random seed to shuffle data \n",
        "\n",
        "  Returns:\n",
        "  mini_batches: array of tuples containing (mini_x, mini_y)\n",
        "  \"\"\"\n",
        "  X, y = shuffle(X, y, random_state=random_state)\n",
        "  num_of_batches = int(len(X) / batch_size)\n",
        "  dec_part = len(X) % batch_size\n",
        "  mini_batches = [] \n",
        "\n",
        "  for i in range(0, num_of_batches):\n",
        "    from_index = i*batch_size\n",
        "    to_index = from_index+batch_size\n",
        "    mini_batches.append((X.iloc[from_index:to_index], y.iloc[from_index:to_index]))\n",
        "\n",
        "  mini_batches.append((X.iloc[batch_size*num_of_batches:], y.iloc[batch_size*num_of_batches:]))\n",
        "\n",
        "  return mini_batches"
      ],
      "execution_count": 0,
      "outputs": []
    },
    {
      "cell_type": "code",
      "metadata": {
        "id": "R7RJPEA1GYJE",
        "colab_type": "code",
        "colab": {}
      },
      "source": [
        " def one_hot_encoding(indices):\n",
        "  \"\"\" \n",
        "  One hot encoding of the label dataset\n",
        "    \n",
        "  Arguments:\n",
        "  indices: panda label dataset\n",
        "\n",
        "  Returns:\n",
        "  one hot encoding of the input dataset\n",
        "  \"\"\"\n",
        "\n",
        "  return pd.get_dummies(indices)"
      ],
      "execution_count": 0,
      "outputs": []
    },
    {
      "cell_type": "code",
      "metadata": {
        "id": "083YzYmpBkfh",
        "colab_type": "code",
        "colab": {}
      },
      "source": [
        "def create_placeholders(x_size, y_size):\n",
        "\n",
        "    \"\"\" \n",
        "    Create the placeholders for the session\n",
        "    \n",
        "    Arguments:\n",
        "    x_size: number of features of the input data\n",
        "    y_size: number of classes of labels\n",
        "\n",
        "    Returns:\n",
        "    X: placeholder for the input data\n",
        "    Y: placeholder for the output data\n",
        "    \"\"\"\n",
        "\n",
        "    X = tf.placeholder(tf.float32, [x_size, None], name=\"X\")\n",
        "    Y = tf.placeholder(tf.float32, [y_size, None], name=\"Y\")\n",
        "    \n",
        "    return X, Y"
      ],
      "execution_count": 0,
      "outputs": []
    },
    {
      "cell_type": "code",
      "metadata": {
        "id": "rkLFYjGoBwaA",
        "colab_type": "code",
        "colab": {}
      },
      "source": [
        "def initialize_parameters():\n",
        "    \n",
        "    \"\"\" \n",
        "    Initialize the params for the network\n",
        "    \n",
        "    Arguments: --\n",
        "\n",
        "    Returns:\n",
        "    parameters: a key value object that stores the weights and the bias\n",
        "     \"\"\"\n",
        "\n",
        "    parameters = {}\n",
        "    for i in range(0, NUM_LAYERS):\n",
        "      if i==0:\n",
        "        parameters[\"W1\"] = tf.get_variable(\"W1\", [layers[i], FEATURES_NUM_X], initializer = tf.contrib.layers.xavier_initializer(seed=1))\n",
        "      else:\n",
        "        parameters[\"W\"+str(i+1)] = tf.get_variable(\"W\"+str(i+1), [layers[i], layers[i-1]], initializer = tf.contrib.layers.xavier_initializer(seed=1))\n",
        "      parameters[\"b\"+str(i+1)] = tf.get_variable(\"b\"+str(i+1), [layers[i], 1], initializer = tf.zeros_initializer())\n",
        "    \n",
        "    return parameters"
      ],
      "execution_count": 0,
      "outputs": []
    },
    {
      "cell_type": "code",
      "metadata": {
        "id": "ZQ8jVkNcIz_w",
        "colab_type": "code",
        "colab": {}
      },
      "source": [
        "def forward_propagation(X, parameters):\n",
        "\n",
        "    \"\"\" \n",
        "    Implements forward propagation, it uses the same activation function for the whole network\n",
        "    \n",
        "    Arguments: \n",
        "    X: input data\n",
        "    parameters: key value object containing weigths and params\n",
        "\n",
        "    Returns:\n",
        "    Z[\"Z\" + (NUM_LAYERS)]: last computed weight computation\n",
        "     \"\"\"\n",
        "\n",
        "    Z = {}\n",
        "    A = {}\n",
        "\n",
        "    A[\"A0\"] = X\n",
        "    for i in range(0, NUM_LAYERS):\n",
        "      Z[\"Z\"+ str(i+1)] = tf.add(tf.matmul(parameters[\"W\"+str(i+1)], A[\"A\"+str(i)]), parameters[\"b\"+ str(i+1)])\n",
        "      if (i+1) != NUM_LAYERS:\n",
        "        A[\"A\"+ str(i+1)] = tf.nn.relu(Z[\"Z\"+ str(i+1)])\n",
        "    \n",
        "    return Z[\"Z\" + str(NUM_LAYERS)]"
      ],
      "execution_count": 0,
      "outputs": []
    },
    {
      "cell_type": "code",
      "metadata": {
        "id": "BZ21l38UK4td",
        "colab_type": "code",
        "colab": {}
      },
      "source": [
        "def compute_cost(least_z, Y):\n",
        "    \"\"\"\n",
        "    Computes the cost\n",
        "    \n",
        "    Arguments:\n",
        "    least_z: least computed z of the network\n",
        "    Y -- ground truth\n",
        "    \n",
        "    Returns:\n",
        "    cost: tensor of the cost function\n",
        "    \"\"\"\n",
        "    \n",
        "    logits = tf.transpose(least_z)\n",
        "    labels = tf.transpose(Y)\n",
        "    \n",
        "    cost = tf.reduce_mean(tf.nn.softmax_cross_entropy_with_logits(logits=logits, labels=labels))\n",
        "    \n",
        "    return cost"
      ],
      "execution_count": 0,
      "outputs": []
    },
    {
      "cell_type": "code",
      "metadata": {
        "id": "0-yTRM11LSyg",
        "colab_type": "code",
        "colab": {}
      },
      "source": [
        "def model(X_train, Y_train, X_test, Y_test, learning_rate = 0.0001,\n",
        "          num_epochs = 1000, minibatch_size = 32, print_cost = True):\n",
        "    \n",
        "    ops.reset_default_graph()       \n",
        "    m = X_train.shape[0]\n",
        "    n_y = CLASSES_NUMBER\n",
        "    costs = []\n",
        "    \n",
        "    # Create Placeholders of shape (n_x, n_y)\n",
        "    X, Y = create_placeholders(FEATURES_NUM_X, CLASSES_NUMBER)\n",
        "\n",
        "    # Initialize parameters\n",
        "    parameters = initialize_parameters()\n",
        "    \n",
        "    # Forward propagation: Build the forward propagation in the tensorflow graph\n",
        "    least_z = forward_propagation(X, parameters)\n",
        "    \n",
        "    # Cost function: Add cost function to tensorflow graph\n",
        "    cost = compute_cost(least_z, Y)\n",
        "    \n",
        "    # Backpropagation\n",
        "    optimizer = tf.train.AdamOptimizer(learning_rate = learning_rate).minimize(cost)\n",
        "    \n",
        "    # Initialize all the variables\n",
        "    init = tf.global_variables_initializer()\n",
        "\n",
        "    # Start the session to compute the tensorflow graph\n",
        "    with tf.Session() as sess:\n",
        "        sess.run(init)\n",
        "        # Do the training loop\n",
        "        for epoch in range(num_epochs):\n",
        "            epoch_cost = 0.\n",
        "            num_minibatches = int(m / minibatch_size)\n",
        "            minibatches = split_batches(X_train, Y_train, minibatch_size, epoch)\n",
        "\n",
        "\n",
        "            for minibatch in minibatches:\n",
        "\n",
        "\n",
        "                (minibatch_X, minibatch_Y) = minibatch\n",
        "                # Run the session to execute the \"optimizer\" and the \"cost\", the feedict should contain a minibatch for (X,Y)\n",
        "                _ , minibatch_cost = sess.run([optimizer, cost], feed_dict={X: minibatch_X.T, Y: minibatch_Y.T})\n",
        "                epoch_cost += minibatch_cost / num_minibatches\n",
        "\n",
        "            if print_cost == True:\n",
        "              if epoch % 100 == 0:\n",
        "                  print (\"Cost after epoch %i: %f\" % (epoch, epoch_cost))\n",
        "              if epoch % 5 == 0:\n",
        "                  costs.append(epoch_cost)\n",
        "                \n",
        "        # plot the cost\n",
        "        plt.plot(np.squeeze(costs))\n",
        "        plt.ylabel('cost')\n",
        "        plt.xlabel('iterations (per fives)')\n",
        "        plt.title(\"Learning rate =\" + str(learning_rate))\n",
        "        plt.show()\n",
        "\n",
        "        # lets save the parameters in a variable\n",
        "        parameters = sess.run(parameters)\n",
        "        print (\"Parameters have been trained!\")\n",
        "\n",
        "        # Calculate the correct predictions\n",
        "        correct_prediction = tf.equal(tf.argmax(least_z), tf.argmax(Y))\n",
        "          \n",
        "\n",
        "        # Calculate accuracy on the test set\n",
        "        accuracy = tf.reduce_mean(tf.cast(correct_prediction, \"float\"))\n",
        "\n",
        "   \n",
        "\n",
        "        print (\"Train Accuracy:\", accuracy.eval({X: X_train.T, Y: y_train.T}))\n",
        "        print (\"Test Accuracy:\", accuracy.eval({X: X_test.T, Y: y_test.T}))\n",
        "        \n",
        "        return parameters"
      ],
      "execution_count": 0,
      "outputs": []
    },
    {
      "cell_type": "code",
      "metadata": {
        "id": "rTVh3iEHSciH",
        "colab_type": "code",
        "colab": {}
      },
      "source": [
        "data = pd.read_csv(\"data/train.csv\") \n",
        "\n",
        "y = data.Survived\n",
        "X = data.drop([\"Survived\", \"PassengerId\", \"Name\", \"Cabin\", \"Ticket\"], axis=1)\n",
        "X = map_data(X)\n",
        "X = manage_nan_values(X)\n",
        "\n",
        "y = one_hot_encoding(y)\n",
        "\n",
        "X_train, X_test, y_train, y_test = train_test_split(X, y, test_size=0.03)"
      ],
      "execution_count": 0,
      "outputs": []
    },
    {
      "cell_type": "code",
      "metadata": {
        "id": "yMWDmDOmXQTD",
        "colab_type": "code",
        "outputId": "e4dd6585-dec9-42b4-87bf-1f9bd304d706",
        "colab": {
          "base_uri": "https://localhost:8080/",
          "height": 516
        }
      },
      "source": [
        "parameters = model(X_train, y_train, X_test, y_test, learning_rate = 0.001, minibatch_size=MINI_BATCH_SIZE)"
      ],
      "execution_count": 0,
      "outputs": [
        {
          "output_type": "stream",
          "text": [
            "Cost after epoch 0: 1.267201\n",
            "Cost after epoch 100: 0.466646\n",
            "Cost after epoch 200: 0.449542\n",
            "Cost after epoch 300: 0.443506\n",
            "Cost after epoch 400: 0.443924\n",
            "Cost after epoch 500: 0.445774\n",
            "Cost after epoch 600: 0.428326\n",
            "Cost after epoch 700: 0.427163\n",
            "Cost after epoch 800: 0.434086\n",
            "Cost after epoch 900: 0.428610\n"
          ],
          "name": "stdout"
        },
        {
          "output_type": "display_data",
          "data": {
            "image/png": "[encoded data removed]",
            "text/plain": [
              "<Figure size 432x288 with 1 Axes>"
            ]
          },
          "metadata": {
            "tags": []
          }
        },
        {
          "output_type": "stream",
          "text": [
            "Parameters have been trained!\n",
            "Train Accuracy: 0.8134642\n",
            "Test Accuracy: 0.78651685\n"
          ],
          "name": "stdout"
        }
      ]
    },
    {
      "cell_type": "code",
      "metadata": {
        "id": "CifKCU1Hr5Bl",
        "colab_type": "code",
        "colab": {}
      },
      "source": [
        ""
      ],
      "execution_count": 0,
      "outputs": []
    }
  ]
}